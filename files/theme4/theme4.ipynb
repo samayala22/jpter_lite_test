{
 "cells": [
  {
   "cell_type": "markdown",
   "metadata": {},
   "source": [
    "# <h1 align=\"center\"> THEME 4 - Données tabulaires </h1>\n",
    "\n",
    "### 🎯 Objectifs\n",
    "\n",
    "- Manipuler des données tabulaires\n",
    "- Effectuer de l'analyse statistique\n",
    "\n",
    "### 📚 Notions \n",
    "\n",
    "- [Exemple 1](#ex1):\n",
    "    - Créer un Dataframe à partir d'un dictionnaire\n",
    "    - Indexer des données\n",
    "    - Filtrer les données par masque binaire\n",
    "    - Trier des colonnes numériques\n",
    "- [Exemple 2](#ex2):\n",
    "    - Ouvrir un fichier de données (CSV, etc...) et créer un Dataframe\n",
    "    - Groupy et aggregation de données\n",
    "    - Renommer des colonnes\n",
    "    - Filtrer des colonnes textuelles par mots clés\n",
    "- [Exemple 3](#ex3):\n",
    "    - Retirer et remplacer des valeurs nulles\n",
    "    - Detecter et retirer des lignes dupliquées\n",
    "    - Créer un index à partir d'une colonne\n",
    "    - Joindre deux Dataframes en fonction d'une clé commune\n",
    "\n",
    "Un [lexique](#lexique) avec l'ensemble des fonctions qui ont été vues est disponible à la fin du notebook.\n",
    "\n",
    "### 🧰 Librairies\n",
    "\n",
    "- **Pandas**: est une librairie libre-source Python largement utilisée dans la science des données, l'analyse des données et l'apprentissage machine. Il est construit au-dessus de la librairie Numpy ce qui lui offre une interface similaire et permet l'interopérabilité avec des fonctions numpy.\n",
    "\n",
    "### 🔗 Référence\n",
    "\n",
    "- [Documentation Polars](https://pola-rs.github.io/polars/py-polars/html/reference/)\n",
    "\n",
    "### ⚙️ Installation\n",
    "\n",
    "`pip install pandas`"
   ]
  },
  {
   "cell_type": "markdown",
   "metadata": {},
   "source": [
    "## <a name=\"ex1\"><h2 align=\"center\"> Exemple 1 - Fleurs Iris </h2></a>\n",
    "\n",
    "### 📝 Contexte\n",
    "\n",
    "L'Iris est un genre de plantes vivaces de la famille des Iridacées. Il existe une large variété d'espèces que l'on retrouve au Québec. L'Iris Versicolor est d'ailleur l'un des emblèmes officiels du Quebec et se trouve le drapeau.\n",
    "\n",
    "<center> <img width=400px src=\"assets/iris.jpg\" /> </center>\n",
    "\n",
    "\n",
    "La fleur peut être violette, bleue ou pourpre et plus rarement blanche. Elle est constituée de trois pétales minces et relevés disposés à l'intérieur de la fleur et de trois sépales plus longs et plus larges en forme de spatule et situés à l'extérieur. \n",
    "\n",
    "### ⭐ Objectif\n",
    "\n",
    "- Créer un jeu de données à partir d'un dictionnaire Python contenant les données de fleurs d'iris.\n",
    "- Indexer et filtrer les données."
   ]
  },
  {
   "cell_type": "markdown",
   "metadata": {},
   "source": [
    "### 💻 Code\n",
    "\n",
    "Un `DataFrame` est une structure de données tabulaires qui permet de stocker et manipuler des données de façon intuitive. Les données tabulaires sont organisées sous forme de lignes avec des colonnes communes. \n",
    "\n",
    "La façon la plus simple de créer un `DataFrame` est de partir d'un objet Python. La nature de cet objet change en fonction du format des données:\n",
    "\n",
    "- Données colonnes: L'objet est un dictionnaire où les clés sont les noms des colonnes, et où les valeurs sont des listes de même taille qui vont constituer les colonnes. C'est le format qui sera utilisé dans cet exemple.\n",
    "- Données lignes: L'objet est une liste de dictionnaires, où chaque dictionnaire ont les mêmes clés et possède une seule valeur par clé.\n",
    "\n",
    "Ces deux formats sont interchangeables en fonction de l'application et ont chacun des forces et faiblesses. "
   ]
  },
  {
   "cell_type": "code",
   "execution_count": null,
   "metadata": {},
   "outputs": [],
   "source": [
    "import pandas as pd\n",
    "import numpy as np\n",
    "import pprint as pp\n",
    "\n",
    "# Création d'un DataFrame (df) à partir d'un dict\n",
    "df_iris = pd.DataFrame(\n",
    "    {\n",
    "        \"Date\": pd.to_datetime(\"2022-06-15\"),  # Conversion d'un texte en date\n",
    "        \"Location\": \"Quebec\",  # Colonne location avec une valeur qui sera repétée\n",
    "        \"Espèce\": [\"Versicolor\", \"Versicolor\", \"Setosa\", \"Setosa\", \"Virginica\"],  # Liste python de mots\n",
    "        \"Petale_long\": [5.1, 4.7, 1.5, 1.6, 5.5],  # Liste python de nombres\n",
    "        \"Petale_larg\": np.array([1.2, 1.2, 0.2, 0.3, 2.1]),  # Numpy array\n",
    "    },\n",
    "    index=[\"fleur_0\", \"fleur_1\", \"fleur_2\", \"fleur_3\", \"fleur_4\"],\n",
    ")\n",
    "\n",
    "# Afficher le df\n",
    "df_iris"
   ]
  },
  {
   "cell_type": "markdown",
   "metadata": {},
   "source": [
    "Une fois le `DataFrame` créé, il est possible d'obtenir des informations sur ses colonnes."
   ]
  },
  {
   "cell_type": "code",
   "execution_count": null,
   "metadata": {},
   "outputs": [],
   "source": [
    "print(df_iris.shape)  # Forme du df (lignes, colonnes)\n",
    "print(df_iris.columns)  # Liste des colonnes du df\n",
    "print(df_iris.dtypes[\"Petale_long\"])  # Type de données d'une colonne"
   ]
  },
  {
   "cell_type": "markdown",
   "metadata": {},
   "source": [
    "L'indexation des données dans pandas est assez délicate puisqu'il existe 3 forme d'indexation:\n",
    "\n",
    "- Directe des colonnes: `df[<nom_colonne>]`. Utile pour selectionner **une seule** colonne et pour de la filtration. "
   ]
  },
  {
   "cell_type": "code",
   "execution_count": null,
   "metadata": {},
   "outputs": [],
   "source": [
    "df_iris[\"Espèce\"]  # Selectionner une colonne"
   ]
  },
  {
   "cell_type": "markdown",
   "metadata": {},
   "source": [
    "- Avec `df.loc[<no_ligne>, <nom_colonne>]`. Utile pour selectionner **plusieurs** colonnes et lignes en même temps."
   ]
  },
  {
   "cell_type": "code",
   "execution_count": null,
   "metadata": {},
   "outputs": [],
   "source": [
    "df_iris.loc[\"fleur_0\", \"Espèce\"]  # Selectionner la première ligne de la colonne \"Espèce\""
   ]
  },
  {
   "cell_type": "code",
   "execution_count": null,
   "metadata": {},
   "outputs": [],
   "source": [
    "df_iris.loc[\n",
    "    :, [\"Petale_long\", \"Petale_larg\"]\n",
    "]  # Selectionner toutes les lignes des colonnes \"Petale_long\" et \"Petale_larg\""
   ]
  },
  {
   "cell_type": "markdown",
   "metadata": {},
   "source": [
    "- Avec `df.iloc[<no_ligne>, <no_colonne>]`. Similaire à `.loc` mais utilise **uniquement** des indices numériques. Cette méthode est similaire à l'indexation d'une matrice dans Numpy."
   ]
  },
  {
   "cell_type": "code",
   "execution_count": null,
   "metadata": {},
   "outputs": [],
   "source": [
    "df_iris.iloc[0, -1]  # Selectionner la première ligne de la dernière colonne"
   ]
  },
  {
   "cell_type": "code",
   "execution_count": null,
   "metadata": {},
   "outputs": [],
   "source": [
    "df_iris.iloc[:3, -2:]  # Selectionner les 3 premières lignes des 2 dernières colonnes"
   ]
  },
  {
   "cell_type": "markdown",
   "metadata": {},
   "source": [
    "On utilise un `DataFrame` généralement lorsque l'on veut analyser un sous-ensemble de données avec une caractéristique particulière. Cette caractéristique peut être isolée en filtrant les données. L'une des méthodes est l'utilisation de masques binaires, similaires à ceux employés avec les Numpy arrays."
   ]
  },
  {
   "cell_type": "code",
   "execution_count": null,
   "metadata": {},
   "outputs": [],
   "source": [
    "filtre = df_iris[\"Espèce\"] == \"Setosa\"\n",
    "filtre"
   ]
  },
  {
   "cell_type": "code",
   "execution_count": null,
   "metadata": {},
   "outputs": [],
   "source": [
    "df_iris.loc[filtre]"
   ]
  },
  {
   "cell_type": "code",
   "execution_count": null,
   "metadata": {},
   "outputs": [],
   "source": [
    "# Prendre les iris avec une largeur de petale supérieure à 1 et une longueur de petale inférieure à 5.2, et selectionner\n",
    "# uniquement les colonnes  Espèce, Petale_long et Petale_larg\n",
    "# Attention: ne pas oublier les parentheses entre chaque masque binaire\n",
    "filtre2 = (df_iris[\"Petale_larg\"] > 1) & (df_iris[\"Petale_long\"] < 5.2)\n",
    "df_iris.loc[filtre2, [\"Espèce\", \"Petale_long\", \"Petale_larg\"]]"
   ]
  },
  {
   "cell_type": "markdown",
   "metadata": {},
   "source": [
    "On utilise `.isin` pour isoler les lignes d'une colonne qui contient l'une des valeurs possibles d'une liste."
   ]
  },
  {
   "cell_type": "code",
   "execution_count": null,
   "metadata": {},
   "outputs": [],
   "source": [
    "df_iris.loc[df_iris[\"Espèce\"].isin([\"Setosa\", \"Virginica\"])]  # Selectionner les iris de type \"Setosa\" ou \"Versicolor\""
   ]
  },
  {
   "cell_type": "markdown",
   "metadata": {},
   "source": [
    "On peut aussi trier les données avec une ou plusieurs colonnes."
   ]
  },
  {
   "cell_type": "code",
   "execution_count": null,
   "metadata": {},
   "outputs": [],
   "source": [
    "# Trier le tableau par les valeurs de la colonne \"Petale_long\" en ordre decroissant\n",
    "df_iris.sort_values(by=\"Petale_long\", ascending=False)"
   ]
  },
  {
   "cell_type": "code",
   "execution_count": null,
   "metadata": {},
   "outputs": [],
   "source": [
    "# Trier le tableau par les valeurs des colonnes \"Petale_long\" et \"Petale_larg\" en ordre croissant\n",
    "df_iris.sort_values(by=[\"Petale_long\", \"Petale_larg\"])"
   ]
  },
  {
   "cell_type": "markdown",
   "metadata": {},
   "source": [
    "Une fois que les opérations sont complétés sur le `DataFrame`, il est simple de le convertir en dictionnaire avec la méthode `to_dict()` pour l'exporter par exemple. "
   ]
  },
  {
   "cell_type": "code",
   "execution_count": null,
   "metadata": {},
   "outputs": [],
   "source": [
    "# Selectionner les fleurs de type \"Setosa\" et \"Versicolor\" et les trier par ordre croissant de largeur de pétale\n",
    "new_df = df_iris[df_iris[\"Espèce\"].isin([\"Setosa\", \"Versicolor\"])].sort_values(by=\"Petale_larg\")\n",
    "\n",
    "df_dict = new_df.to_dict(\"list\")  # \"List\" pour format colonne et \"records\" pour format ligne\n",
    "\n",
    "pp.pprint(df_dict)  # Afficher le dictionnaire résultant"
   ]
  },
  {
   "cell_type": "markdown",
   "metadata": {},
   "source": [
    "Pour des opérations matricielles, on peut aussi utiliser la méthode `to_numpy()` pour convertir des colonnes du DataFrame en matrice Numpy."
   ]
  },
  {
   "cell_type": "code",
   "execution_count": null,
   "metadata": {},
   "outputs": [],
   "source": [
    "mat_petales = df_iris.loc[:, [\"Petale_long\", \"Petale_larg\"]].to_numpy()\n",
    "print(mat_petales)"
   ]
  },
  {
   "cell_type": "markdown",
   "metadata": {},
   "source": [
    "## <a name=\"ex2\"><h2 align=\"center\"> Exemple 2 - Transestérification du canola en biodiesel </h2></a>\n",
    "\n",
    "### 📝 Contexte\n",
    "La transestérification est une méthode de production de biodiesel à partir de la réaction entre une huile végétale et de l'alcool. Dans cet exemple, l'huile végétale utilisée est le canola et la réaction est la suivante:\n",
    "\n",
    "<center>\n",
    "<img width=500px src=\"assets/reaction_biodiesel.png\" />\n",
    "</center>\n",
    "\n",
    "Les triglycérides du canola réagissent avec l'alcool et produisent du biodiesel et du glycérol. Une chromatographie est effectuée à la suite de la réaction pour analyser son contenu chimique.\n",
    "\n",
    "<center>\n",
    "<img width=500px src=\"assets/chromato_biodiesel.png\" />\n",
    "</center>\n",
    "\n",
    "Enfin, une analyse numérique dans le logiciel de chromatographie permet d'extraire les données des pics les plus importants. \n",
    "\n",
    "### ⭐ Objectif\n",
    "\n",
    "TBD"
   ]
  },
  {
   "cell_type": "markdown",
   "metadata": {},
   "source": [
    "### 💻 Code\n",
    "\n",
    "Les données que l'on analyse sont d'habitude stockées sur un disque dans un fichier. Il existe une multitude de formats qui existent et les plus utilisés sont: `CSV`, `JSON`, `IPC`, `HDF5` et `Parquet`. \n",
    "\n",
    "Dans Pandas, il y a [plusieurs](https://pandas.pydata.org/docs/reference/io.html) fonctions qui permettent de ouvrir ces fichiers et les convertir facilement en `DataFrame`. \n",
    "\n",
    "Pour cet exemple, on utilise le format de base: `CSV`. "
   ]
  },
  {
   "cell_type": "code",
   "execution_count": null,
   "metadata": {},
   "outputs": [],
   "source": [
    "# Lecture du fichier CSV avec un séparateur \";\"\n",
    "df_bio = pd.read_csv(\"assets/biodiesel.csv\", sep=\";\")\n",
    "\n",
    "df_bio"
   ]
  },
  {
   "cell_type": "markdown",
   "metadata": {},
   "source": [
    "Dans la sience des données, l'un des outils fondamentaux est l'aggregation de données qui permet de regrouper les données appartenant à un même sous-groupe et en tirer plus facilement des résultats numériques. \n",
    "\n",
    "Avec pandas, cela se fait avec la méthode `groupby` pour regrouper les données sur une ou plusieurs colonnes et `agg` pour spécifier la méthode d'aggregation employée, très souvent sur les données numériques. Après l'aggregation, il bonne pratique de renommer les colonnes pour mieux representer les nouvelles colonnes, avec pandas on peut faire cela avec la méthode `rename`.\n",
    "\n",
    "Les opérations d'aggregation possible sont:\n",
    "\n",
    "| Opération        | Description              |\n",
    "| ---------------- | ------------------------ |\n",
    "| `mean`, `median` | Moyenne, Médiane         |\n",
    "| `count`          | Nombre d'éléments        |\n",
    "| `first`, `last`  | Premier, Dernier élément |\n",
    "| `std`, `var`     | Ecart-type, Variance     |\n",
    "| `min`, `max`     | Minimum, Maximum         |\n",
    "| `sum`, `prod`    | Somme, Produit           |\n"
   ]
  },
  {
   "cell_type": "code",
   "execution_count": null,
   "metadata": {},
   "outputs": [],
   "source": [
    "# Les colonnes sont renommées en utilisant un dictionnaire où les clés sont les anciens noms et les valeurs sont\n",
    "# les nouveaux noms\n",
    "new_col = {\"Time\": \"Avg Time\", \"Area\": \"Total Area\"}\n",
    "\n",
    "# Manipulation du df\n",
    "# -------------------------------------------------\n",
    "# Les étapes peuvent être également écrites sur une seule ligne\n",
    "df_new_bio = (\n",
    "    df_bio.groupby(\"Name\")  # Regrouper les lignes par \"Name\", mettre as_index=False est recommandé\n",
    "    .agg({\"Time\": \"mean\", \"Area\": \"sum\"})  # Spécifier l'opération d'aggregation sur les colonnes non-regroupées\n",
    "    .rename(columns=new_col)  # Renommer les colonnes\n",
    ")\n",
    "\n",
    "df_new_bio"
   ]
  },
  {
   "cell_type": "markdown",
   "metadata": {},
   "source": [
    "Pour pouvoir filtrer les lignes qui correspondent à une molécule de biodiesel, on peut utiliser `.str.contains(<critère>)` sur une colonne ou un index de texte pour isoler les lignes qui contiennent un bout de texte. Dans notre cas, on remarque que les molécules de biodiesel contiennent un \"C\".  "
   ]
  },
  {
   "cell_type": "code",
   "execution_count": null,
   "metadata": {},
   "outputs": [],
   "source": [
    "df_new_bio.loc[df_new_bio.index.str.contains(\"C\")]"
   ]
  },
  {
   "cell_type": "markdown",
   "metadata": {},
   "source": [
    "## <a name=\"ex3\"><h2 align=\"center\"> Exemple 3 - Émissions écoinvent </h2></a>\n",
    "\n",
    "\n",
    "### 📝 Contexte\n",
    "\n",
    "Ecoinvent est une association à but non lucratif qui met à disposition des données de haute qualité reliées aux émissions de divers procédés industriels. À partir de leur base de données, des données ont été extraites dans un fichier [parquet](https://en.wikipedia.org/wiki/Apache_Parquet) avec:\n",
    "\n",
    "- Le ID du procédé\n",
    "- Le nom de la particule émise\n",
    "- Le numéro CAS de cette particule\n",
    "- L'unité utilisée pour mesurer l'émission\n",
    "- Le milieu d'émission\n",
    "- Le sous-milieu d'émission \n",
    "\n",
    "À partir de liste des numéros CAS uniques, les compositions chimiques de chaque molécules ont été extraites dans un autre fichier parquet. Cette extraction a été possible grace aux librairies python open source: \n",
    "\n",
    "- [cirpy](https://github.com/mcs07/CIRpy) pour convertir le numéro CAS en représentation chimique.\n",
    "- [chempy](https://github.com/bjodah/chempy) pour obtenir les compositions chimiques. \n",
    "\n",
    "Ce fichier contient donc une colonne avec le numéro CAS et 118 colonnes pour chaque élément atomique et sa quantité dans la molécule.\n",
    "\n",
    "### ⭐ Objectif\n",
    "\n",
    "- Ouvrir ces fichiers xlsx comme `DataFrame`.\n",
    "- Rejoindre les deux tableaux grace au numéro CAS."
   ]
  },
  {
   "cell_type": "markdown",
   "metadata": {},
   "source": [
    "### 💻 Code\n",
    "\n",
    "On commence par ouvrir les fichiers parquet en utilisant la méthode `read_parquet()` de Pandas."
   ]
  },
  {
   "cell_type": "code",
   "execution_count": null,
   "metadata": {},
   "outputs": [],
   "source": [
    "df_ecoinvent = pd.read_parquet(\"assets/ecoinvent.parquet\")\n",
    "df_chempy = pd.read_parquet(\"assets/chempy.parquet\")\n",
    "\n",
    "df_ecoinvent"
   ]
  },
  {
   "cell_type": "code",
   "execution_count": null,
   "metadata": {},
   "outputs": [],
   "source": [
    "pd.set_option(\"display.precision\", 2)  # Pour une meilleure clartée on affiche le df avec 2 chiffres après la virgule\n",
    "\n",
    "df_chempy"
   ]
  },
  {
   "cell_type": "markdown",
   "metadata": {},
   "source": [
    "On remarque que le DataFrame `chempy` contient beaucoup de valeurs `NaN` qui correspondent à des valeurs nulles. Il est très probable que certaines colonnes sont complètement vide en raison de l'absence de cet élément atomique dans la liste des particules, on peut donc retirer ces colonnes. \n",
    "\n",
    "Par la suite, pour éviter d'avoir des erreurs lors d'un calcul de somme par exemple, il est préférable de remplacer les valeurs `NaN` par zéro.\n",
    "\n",
    "Pour une manipulation plus simple, la plupart des opérations sont effectuées `inplace=True` pour modifier le DataFrame directement sans créer des copies inutiles. Cela est équivalent à faire `df = df.<methode>`. "
   ]
  },
  {
   "cell_type": "code",
   "execution_count": null,
   "metadata": {},
   "outputs": [],
   "source": [
    "# Supprimer les colonnes (axis=1) qui contiennent que des valeurs nulles (how=all)\n",
    "df_chempy.dropna(axis=1, how=\"all\", inplace=True)\n",
    "\n",
    "# Remplacer toutes les valeurs nulles par 0\n",
    "df_chempy.fillna(0, inplace=True)\n",
    "\n",
    "df_chempy"
   ]
  },
  {
   "cell_type": "markdown",
   "metadata": {},
   "source": [
    "Généralement, lors de la manipulation de données tabulaire, il est souvent très possible d'être en présence de lignes dupliquées. On peut vérifier ça avec la méthode `.duplicated()` qui renvoie un masque binaire avec `True` pour les lignes dupliquées."
   ]
  },
  {
   "cell_type": "code",
   "execution_count": null,
   "metadata": {},
   "outputs": [],
   "source": [
    "filtre3 = df_chempy[\"CAS\"].duplicated()  # Trouver les lignes avec un CAS dupliqué\n",
    "df_chempy.loc[filtre3].sort_values(by=\"CAS\")  # Appliquer le filtre et trier par ordre croissant du CAS"
   ]
  },
  {
   "cell_type": "markdown",
   "metadata": {},
   "source": [
    "On voit donc qu'il y a 152 lignes qui sont des doublons. On peut les retirer du DataFrame avec la méthode `drop_duplicates()`. "
   ]
  },
  {
   "cell_type": "code",
   "execution_count": null,
   "metadata": {},
   "outputs": [],
   "source": [
    "df_chempy.drop_duplicates([\"CAS\"])"
   ]
  },
  {
   "cell_type": "markdown",
   "metadata": {},
   "source": [
    "Pour calculer la masse totale de la particule, on peut utiliser une fonction Lambda. Cette fonction permet d'évaluer une expression mathématique sur chaque ligne du DataFrame."
   ]
  },
  {
   "cell_type": "code",
   "execution_count": null,
   "metadata": {},
   "outputs": [],
   "source": [
    "# Ajouter la table de la masse des éléments atomiques ??\n",
    "\n",
    "df_chempy[\"Masse Totale\"] = pd.Series(np.zeros(len(df_chempy)))\n",
    "df_chempy[\"Masse Totale\"] = df_chempy.loc[:, df_chempy.columns != \"CAS\"].sum(axis=1)\n",
    "\n",
    "df_chempy"
   ]
  },
  {
   "cell_type": "markdown",
   "metadata": {},
   "source": [
    "Rejoindre plusieurs tableaux de données est une autre opération fondamentale dans la science des données. Pour des données de type relationnelles, comme celles que l'on a, des tableaux peuvent être joints à partir d'une ou plusieurs clés communes entre les deux tables. Dans notre cas, la clé commune est le numéro CAS. \n",
    "\n",
    "Dans pandas, cette opération se fait avec la méthode `.join()`. Il existe plusieurs types de join que l'on peut faire: `inner`, `outer`, `left` et `right`, une explication complète avec des exemples est disponible [ici](https://learnsql.com/blog/sql-joins-types-explained/)."
   ]
  },
  {
   "cell_type": "code",
   "execution_count": null,
   "metadata": {},
   "outputs": [],
   "source": [
    "# Avec Pandas, un join doit se faire entre 2 indexes avec le même nom, il faut donc renommer la colonne CAS de df_chempy\n",
    "# et créer un index pour les deux df.\n",
    "# -------------------------------------------------\n",
    "df_chempy.rename(columns={\"CAS\": \"cas\"}, inplace=True)\n",
    "df_chempy.set_index(\"cas\", inplace=True)\n",
    "df_ecoinvent.set_index(\"cas\", inplace=True)\n",
    "df_joined = df_ecoinvent.join(df_chempy, on=\"cas\", how=\"left\")\n",
    "\n",
    "df_joined"
   ]
  },
  {
   "cell_type": "code",
   "execution_count": null,
   "metadata": {},
   "outputs": [],
   "source": [
    "# concat ?\n",
    "# pivot ?\n",
    "# query ?\n",
    "# reset index ?"
   ]
  },
  {
   "cell_type": "markdown",
   "metadata": {},
   "source": [
    "### 💡 Astuces\n",
    "\n",
    "- Lors de la manpulation des `DataFrame`, par souci de performance, il est important de comprendre l'ordre des opérations qui sont effectuées. Généralement, il faut commencer par tout filtrage des données et retirer les lignes ou colonnes que l'on veut exclure avant de faire une opération mathématique.\n",
    "- Dans la plupart des cas, les données utilisées dépassent rarement le million de lignes. Cependant, dans le cas contraire, il faut commencer à prendre en compte la taille des données et ce que ça implique en terme d'utilisation de la mémoire. Très souvent cela consiste à limiter le nombre de copies que l'on fait ainsi que adopter une structure de tableau plus compacte afin de diminuer sa taille. C'est un sujet un peu plus avancé mais tout de même interessant à savoir si on a l'intention de travailler avec du Big Data et construire des algorithmes qui roulent en temps réel par exemple."
   ]
  },
  {
   "cell_type": "markdown",
   "metadata": {},
   "source": [
    "## <a name=\"lexique\"><h2 align=\"center\"> Lexique </h2></a>\n",
    "\n",
    "### 📚 Terminologie\n",
    "\n",
    "- `DataFrame` ou `df`: structure de données tabulaires en mémoire qui permet de stocker et manipuler les colonnes et lignes de données.\n",
    "\n",
    "### ✔️ Vu dans l'exemple 1\n",
    "\n",
    "- `pd.DataFrame`: créé un DataFrame à partir d'un objet Python comme une liste de dictionnaires ou un dictionnaire de listes.\n",
    "- `df.shape`: renvoie la taille du DataFrame.\n",
    "- `df.columns`: renvoie la liste des noms des colonnes.\n",
    "- `df.dtypes`: renvoie le type de données d'une colonne.\n",
    "- `df.loc`: indexation de plusieurs lignes et colonnes par noms et avec des masques binaires. \n",
    "- `df.iloc`: indexation par numéros de lignes et colonnes.\n",
    "- `df.isin`: masque binaire qui renvoie `True` pour les lignes qui contiennent une valeur dans une liste de valeurs possibles.\n",
    "- `df.sort_values`: trie les données par ordre croissant ou décroissant.\n",
    "- `df.to_dict`: convertit un DataFrame en objet Python.\n",
    "- `df.to_numpy`: convertit un DataFrame en matrice NumPy.\n",
    "\n",
    "### ✔️ Vu dans l'exemple 2\n",
    "\n",
    "- `pd.read_csv`: lit un fichier CSV et renvoie un DataFrame.\n",
    "- `df.groupby`: groupe les lignes d'un DataFrame par une ou des colonnes.\n",
    "- `df.agg`: spécifie la méthode d'aggregation lors d'un groupby.\n",
    "- `df.rename`: renomme les colonnes d'un DataFrame.\n",
    "- `df.str.contains`: renvoie un masque binaire pour chaque ligne qui contient un ou plusieurs mots.\n",
    "\n",
    "### ✔️ Vu dans l'exemple 3\n",
    "\n",
    "- `pd.read_parquet`: lit un fichier parquet et renvoie un DataFrame.\n",
    "- `df.dropna`: retire les lignes ou colonnes qui contiennent des valeurs nulles.\n",
    "- `df.fillna`: remplace les valeurs nulles par une valeur.\n",
    "- `df.duplicated`: renvoie un masque binaire pour les lignes qui sont dupliquées.\n",
    "- `df.drop_duplicates`: retire les lignes dupliquées.\n",
    "- `df.set_index`: définit la clé primaire d'un DataFrame.\n",
    "- `df.join`: joint deux DataFrames en fonction d'une clé commune."
   ]
  }
 ],
 "metadata": {
  "interpreter": {
   "hash": "25034407fed5d681614dac11a1c0537e8cb49e3a8883c071303eea01322943d9"
  },
  "kernelspec": {
   "display_name": "Python 3.9.0 64-bit",
   "language": "python",
   "name": "python3"
  },
  "language_info": {
   "codemirror_mode": {
    "name": "ipython",
    "version": 3
   },
   "file_extension": ".py",
   "mimetype": "text/x-python",
   "name": "python",
   "nbconvert_exporter": "python",
   "pygments_lexer": "ipython3",
   "version": "3.9.0"
  }
 },
 "nbformat": 4,
 "nbformat_minor": 2
}
